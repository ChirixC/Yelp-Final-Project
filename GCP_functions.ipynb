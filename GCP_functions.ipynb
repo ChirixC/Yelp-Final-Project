{
 "cells": [
  {
   "cell_type": "markdown",
   "metadata": {},
   "source": [
    "Función de ChatGPT"
   ]
  },
  {
   "cell_type": "markdown",
   "metadata": {},
   "source": [
    "Funcion para cloud function\n",
    "\n",
    "gcloud functions deploy nombre_de_la_funcion \\\n",
    "    --runtime python310 \\\n",
    "    --trigger-resource nombre_del_bucket \\\n",
    "    --trigger-event google.storage.object.finalize"
   ]
  },
  {
   "cell_type": "code",
   "execution_count": null,
   "metadata": {},
   "outputs": [],
   "source": [
    "from google.cloud import bigquery\n",
    "from google.cloud import storage"
   ]
  },
  {
   "cell_type": "code",
   "execution_count": null,
   "metadata": {},
   "outputs": [],
   "source": [
    "def cargar_a_bigquery(event, context):\n",
    "    \"\"\"Esta función se ejecuta cuando se detecta un nuevo archivo en el bucket.\"\"\"\n",
    "    bucket_name = event['bucket']\n",
    "    file_name = event['name']\n",
    "\n",
    "    # Configurar el cliente de BigQuery y Cloud Storage\n",
    "    bq_client = bigquery.Client()\n",
    "    gcs_client = storage.Client()\n",
    "\n",
    "    # Especificar el dataset y la tabla de destino en BigQuery\n",
    "    dataset_id = 'tu_dataset'\n",
    "    table_id = 'tu_tabla'\n",
    "\n",
    "    # Crear el URI del archivo en GCS\n",
    "    file_uri = f'gs://{bucket_name}/{file_name}'\n",
    "\n",
    "    # Configurar la carga del archivo a BigQuery\n",
    "    job_config = bigquery.LoadJobConfig(\n",
    "        schema=[...],  # Especifica el esquema de tu tabla\n",
    "        source_format=bigquery.SourceFormat.CSV,  # O el formato de tu archivo\n",
    "    )\n",
    "\n",
    "    # Iniciar la carga del archivo\n",
    "    load_job = bq_client.load_table_from_uri(file_uri, dataset_id, table_id, job_config=job_config)\n",
    "    load_job.result()  # Esperar a que se complete la carga\n",
    "\n",
    "    print(f'Archivo {file_uri} cargado exitosamente a BigQuery.')"
   ]
  }
 ],
 "metadata": {
  "language_info": {
   "name": "python"
  }
 },
 "nbformat": 4,
 "nbformat_minor": 2
}
