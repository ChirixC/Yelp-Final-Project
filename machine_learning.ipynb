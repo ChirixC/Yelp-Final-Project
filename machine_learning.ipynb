{
 "cells": [
  {
   "cell_type": "code",
   "execution_count": 5,
   "metadata": {},
   "outputs": [],
   "source": [
    "import pandas as pd \n",
    "import numpy as np \n",
    "from google.cloud import language_v2"
   ]
  },
  {
   "cell_type": "code",
   "execution_count": 9,
   "metadata": {},
   "outputs": [],
   "source": [
    "def sample_analyze_sentiment(text_content: str = \"I am so happy and joyful.\") -> None:\n",
    "    \"\"\"\n",
    "    Analyzes Sentiment in a string.\n",
    "\n",
    "    Args:\n",
    "      text_content: The text content to analyze.\n",
    "    \"\"\"\n",
    "\n",
    "    client = language_v2.LanguageServiceClient()\n",
    "\n",
    "    # text_content = 'I am so happy and joyful.'\n",
    "\n",
    "    # Available types: PLAIN_TEXT, HTML\n",
    "    document_type_in_plain_text = language_v2.Document.Type.PLAIN_TEXT\n",
    "\n",
    "    # Optional. If not specified, the language is automatically detected.\n",
    "    # For list of supported languages:\n",
    "    # https://cloud.google.com/natural-language/docs/languages\n",
    "    language_code = \"en\"\n",
    "    document = {\n",
    "        \"content\": text_content,\n",
    "        \"type_\": document_type_in_plain_text,\n",
    "        \"language_code\": language_code,\n",
    "    }\n",
    "\n",
    "    # Available values: NONE, UTF8, UTF16, UTF32\n",
    "    # See https://cloud.google.com/natural-language/docs/reference/rest/v2/EncodingType.\n",
    "    encoding_type = language_v2.EncodingType.UTF8\n",
    "\n",
    "    response = client.analyze_sentiment(\n",
    "        request={\"document\": document, \"encoding_type\": encoding_type}\n",
    "    )\n",
    "    # Get overall sentiment of the input document\n",
    "    print(f\"Document sentiment score: {response.document_sentiment.score}\")\n",
    "    print(f\"Document sentiment magnitude: {response.document_sentiment.magnitude}\")\n",
    "    # Get sentiment for all sentences in the document\n",
    "    for sentence in response.sentences:\n",
    "        print(f\"Sentence text: {sentence.text.content}\")\n",
    "        print(f\"Sentence sentiment score: {sentence.sentiment.score}\")\n",
    "        print(f\"Sentence sentiment magnitude: {sentence.sentiment.magnitude}\")\n",
    "\n",
    "    # Get the language of the text, which will be the same as\n",
    "    # the language specified in the request or, if not specified,\n",
    "    # the automatically-detected language.\n",
    "    print(f\"Language of the text: {response.language_code}\")"
   ]
  },
  {
   "cell_type": "code",
   "execution_count": 14,
   "metadata": {},
   "outputs": [
    {
     "name": "stdout",
     "output_type": "stream",
     "text": [
      "Document sentiment score: -0.7789999842643738\n",
      "Document sentiment magnitude: 0.925000011920929\n",
      "Sentence text: i feel bad\n",
      "Sentence sentiment score: -0.7799999713897705\n",
      "Sentence sentiment magnitude: 0.925000011920929\n",
      "Language of the text: en\n"
     ]
    }
   ],
   "source": [
    "sample_analyze_sentiment(\"i feel bad\")"
   ]
  },
  {
   "cell_type": "code",
   "execution_count": 16,
   "metadata": {},
   "outputs": [],
   "source": [
    "data = {\n",
    "    'texto': [\"Me encanta este producto, es increíble.\",\n",
    "              \"No estoy seguro de si debería comprarlo.\",\n",
    "              \"Este servicio es terrible, no lo recomendaría a nadie.\",\n",
    "              \"Es un día hermoso y estoy feliz.\"],\n",
    "    'otra_columna': [1, 2, 3, 4]  # Otra columna de ejemplo\n",
    "}\n",
    "\n",
    "df = pd.DataFrame(data)"
   ]
  },
  {
   "cell_type": "code",
   "execution_count": 17,
   "metadata": {},
   "outputs": [
    {
     "data": {
      "text/html": [
       "<div>\n",
       "<style scoped>\n",
       "    .dataframe tbody tr th:only-of-type {\n",
       "        vertical-align: middle;\n",
       "    }\n",
       "\n",
       "    .dataframe tbody tr th {\n",
       "        vertical-align: top;\n",
       "    }\n",
       "\n",
       "    .dataframe thead th {\n",
       "        text-align: right;\n",
       "    }\n",
       "</style>\n",
       "<table border=\"1\" class=\"dataframe\">\n",
       "  <thead>\n",
       "    <tr style=\"text-align: right;\">\n",
       "      <th></th>\n",
       "      <th>texto</th>\n",
       "      <th>otra_columna</th>\n",
       "      <th>sentimiento_score</th>\n",
       "      <th>sentimiento_magnitud</th>\n",
       "    </tr>\n",
       "  </thead>\n",
       "  <tbody>\n",
       "    <tr>\n",
       "      <th>0</th>\n",
       "      <td>Me encanta este producto, es increíble.</td>\n",
       "      <td>1</td>\n",
       "      <td>0.9</td>\n",
       "      <td>0.9</td>\n",
       "    </tr>\n",
       "    <tr>\n",
       "      <th>1</th>\n",
       "      <td>No estoy seguro de si debería comprarlo.</td>\n",
       "      <td>2</td>\n",
       "      <td>-0.2</td>\n",
       "      <td>0.2</td>\n",
       "    </tr>\n",
       "    <tr>\n",
       "      <th>2</th>\n",
       "      <td>Este servicio es terrible, no lo recomendaría ...</td>\n",
       "      <td>3</td>\n",
       "      <td>-0.6</td>\n",
       "      <td>0.6</td>\n",
       "    </tr>\n",
       "    <tr>\n",
       "      <th>3</th>\n",
       "      <td>Es un día hermoso y estoy feliz.</td>\n",
       "      <td>4</td>\n",
       "      <td>0.9</td>\n",
       "      <td>0.9</td>\n",
       "    </tr>\n",
       "  </tbody>\n",
       "</table>\n",
       "</div>"
      ],
      "text/plain": [
       "                                               texto  otra_columna  \\\n",
       "0            Me encanta este producto, es increíble.             1   \n",
       "1           No estoy seguro de si debería comprarlo.             2   \n",
       "2  Este servicio es terrible, no lo recomendaría ...             3   \n",
       "3                   Es un día hermoso y estoy feliz.             4   \n",
       "\n",
       "   sentimiento_score  sentimiento_magnitud  \n",
       "0                0.9                   0.9  \n",
       "1               -0.2                   0.2  \n",
       "2               -0.6                   0.6  \n",
       "3                0.9                   0.9  "
      ]
     },
     "execution_count": 17,
     "metadata": {},
     "output_type": "execute_result"
    }
   ],
   "source": [
    "from google.cloud import language_v1\n",
    "\n",
    "# Inicializar el cliente de Natural Language API\n",
    "client = language_v1.LanguageServiceClient()\n",
    "\n",
    "# Crear una función para analizar el sentimiento\n",
    "def analizar_sentimiento(texto):\n",
    "    document = language_v1.Document(content=texto, type_=language_v1.Document.Type.PLAIN_TEXT)\n",
    "    sentiment = client.analyze_sentiment(request={'document': document}).document_sentiment\n",
    "    return sentiment.score, sentiment.magnitude\n",
    "\n",
    "# Aplicar la función a cada texto en el DataFrame\n",
    "df['sentimiento_score'], df['sentimiento_magnitud'] = zip(*df['texto'].apply(analizar_sentimiento))\n",
    "\n",
    "# Mostrar el DataFrame resultante\n",
    "df"
   ]
  },
  {
   "cell_type": "markdown",
   "metadata": {},
   "source": [
    "El Sentimiento Score y la Sentimiento Magnitud son dos métricas proporcionadas por Google Cloud Natural Language API para evaluar el análisis de sentimientos de un texto:\n",
    "\n",
    "Sentimiento Score:\n",
    "\n",
    "El Sentimiento Score es un valor numérico que representa la polaridad del sentimiento en el texto.\n",
    "Va desde -1 hasta 1, donde -1 indica un sentimiento muy negativo, 0 indica neutralidad y 1 indica un sentimiento muy positivo.\n",
    "Por ejemplo, un Score de -0.5 podría interpretarse como un sentimiento negativo moderado, mientras que un Score de 0.8 podría indicar un sentimiento positivo fuerte.\n",
    "Sentimiento Magnitud:\n",
    "\n",
    "La Sentimiento Magnitud es un valor numérico que representa la intensidad del sentimiento en el texto.\n",
    "No tiene dirección (positiva o negativa), solo indica la fuerza del sentimiento.\n",
    "Puede tener valores mayores que 1.\n",
    "Una magnitud alta no implica necesariamente un sentimiento positivo o negativo, solo indica que la expresión del sentimiento es fuerte en cualquier dirección.\n",
    "En resumen, el Sentimiento Score te dice si el texto es positivo, negativo o neutro, mientras que la Sentimiento Magnitud te indica cuán fuerte es ese sentimiento, independientemente de su dirección. Al considerar ambos, puedes obtener una comprensión más completa del análisis de sentimientos para un determinado texto."
   ]
  }
 ],
 "metadata": {
  "kernelspec": {
   "display_name": "Python 3",
   "language": "python",
   "name": "python3"
  },
  "language_info": {
   "codemirror_mode": {
    "name": "ipython",
    "version": 3
   },
   "file_extension": ".py",
   "mimetype": "text/x-python",
   "name": "python",
   "nbconvert_exporter": "python",
   "pygments_lexer": "ipython3",
   "version": "3.11.0"
  }
 },
 "nbformat": 4,
 "nbformat_minor": 2
}
