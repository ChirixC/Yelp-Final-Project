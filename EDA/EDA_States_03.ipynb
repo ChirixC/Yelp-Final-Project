{
 "cells": [
  {
   "cell_type": "code",
   "execution_count": null,
   "metadata": {},
   "outputs": [],
   "source": [
    "import pandas as pd\n",
    "import matplotlib.pyplot as plt\n",
    "import seaborn as sns\n",
    "import numpy as np\n",
    "import warnings\n",
    "from Utils import helper as hp\n",
    "warnings.filterwarnings('ignore')"
   ]
  },
  {
   "cell_type": "markdown",
   "metadata": {},
   "source": [
    "## Table of Content"
   ]
  },
  {
   "cell_type": "markdown",
   "metadata": {},
   "source": [
    "### Google"
   ]
  },
  {
   "cell_type": "markdown",
   "metadata": {},
   "source": [
    "### States"
   ]
  },
  {
   "cell_type": "code",
   "execution_count": null,
   "metadata": {},
   "outputs": [],
   "source": [
    "montana_df = hp.merge_dataframes('../TestData/Google/States-Reviews/review-Montana',7)\n",
    "nebraska_df = hp.merge_dataframes('../TestData/Google/States-Reviews/review-Nebraska',13)\n",
    "nevada_df = hp.merge_dataframes('../TestData/Google/States-Reviews/review-Nevada',12)\n",
    "new_hampshire_df = hp.merge_dataframes('../TestData/Google/States-Reviews/review-New_Hampshire',9)\n",
    "new_jersey_df = hp.merge_dataframes('../TestData/Google/States-Reviews/review-New_Jersey',13)\n",
    "new_mexico_df = hp.merge_dataframes('../TestData/Google/States-Reviews/review-New_Mexico',12)\n",
    "new_york_df = hp.merge_dataframes('../TestData/Google/States-Reviews/review-New_York',18)\n",
    "north_carolina_df = hp.merge_dataframes('../TestData/Google/States-Reviews/review-North_Carolina',15)\n",
    "north_dakota_df = hp.merge_dataframes('../TestData/Google/States-Reviews/review-North_Dakota',4)\n",
    "ohio_df = hp.merge_dataframes('../TestData/Google/States-Reviews/review-Ohio',13)\n",
    "oklahoma_df = hp.merge_dataframes('../TestData/Google/States-Reviews/review-Oklahoma',11)\n",
    "oregon_df = hp.merge_dataframes('../TestData/Google/States-Reviews/review-Oregon',15)\n",
    "pennsylvania_df = hp.merge_dataframes('../TestData/Google/States-Reviews/review-Pennsylvania',16)"
   ]
  },
  {
   "cell_type": "markdown",
   "metadata": {},
   "source": [
    "### Montana"
   ]
  },
  {
   "cell_type": "code",
   "execution_count": null,
   "metadata": {},
   "outputs": [],
   "source": [
    "# Vista Preliminar de Datos\n",
    "\n",
    "print(montana_df.info())\n",
    "montana_df.head()"
   ]
  },
  {
   "cell_type": "code",
   "execution_count": null,
   "metadata": {},
   "outputs": [],
   "source": [
    "# Reivsión de Nulos\n",
    "\n",
    "montana_overview = hp.data_overview(montana_df)\n",
    "montana_overview"
   ]
  },
  {
   "cell_type": "code",
   "execution_count": null,
   "metadata": {},
   "outputs": [],
   "source": [
    "# Revisión de duplicados\n",
    "\n",
    "montana_duplicated = montana_df[['user_id','name','time','rating', 'text','gmap_id']]\n",
    "montana_duplicated[montana_duplicated.duplicated()]"
   ]
  },
  {
   "cell_type": "code",
   "execution_count": null,
   "metadata": {},
   "outputs": [],
   "source": [
    "# Revisión de Outliers\n",
    "outliers_columns = ['time','rating']\n",
    "\n",
    "for column in outliers_columns:\n",
    "    hp.outliers_percentage(montana_df, column)\n",
    "    print(\"-\"*66)"
   ]
  },
  {
   "cell_type": "markdown",
   "metadata": {},
   "source": [
    "Nebraska"
   ]
  },
  {
   "cell_type": "code",
   "execution_count": null,
   "metadata": {},
   "outputs": [],
   "source": [
    "# Vista Preliminar de Datos\n",
    "\n",
    "print(nebraska_df.info())\n",
    "nebraska_df.head()"
   ]
  },
  {
   "cell_type": "code",
   "execution_count": null,
   "metadata": {},
   "outputs": [],
   "source": [
    "# Reivsión de Nulos\n",
    "\n",
    "nebraska_overview = hp.data_overview(nebraska_df)\n",
    "nebraska_overview"
   ]
  },
  {
   "cell_type": "code",
   "execution_count": null,
   "metadata": {},
   "outputs": [],
   "source": [
    "# Revisión de duplicados\n",
    "\n",
    "nebraska_duplicated = nebraska_df[['user_id','name','time','rating', 'text', 'gmap_id']]\n",
    "nebraska_duplicated[nebraska_duplicated.duplicated()]"
   ]
  },
  {
   "cell_type": "code",
   "execution_count": null,
   "metadata": {},
   "outputs": [],
   "source": [
    "# Revisión de Outliers\n",
    "outliers_columns = ['time','rating']\n",
    "\n",
    "for column in outliers_columns:\n",
    "    hp.outliers_percentage(nebraska_df, column)\n",
    "    print(\"-\"*66)"
   ]
  },
  {
   "cell_type": "markdown",
   "metadata": {},
   "source": [
    "Nevada"
   ]
  },
  {
   "cell_type": "code",
   "execution_count": null,
   "metadata": {},
   "outputs": [],
   "source": [
    "# Vista Preliminar de Datos\n",
    "\n",
    "print(nevada_df.info())\n",
    "nevada_df.head()"
   ]
  },
  {
   "cell_type": "code",
   "execution_count": null,
   "metadata": {},
   "outputs": [],
   "source": [
    "# Reivsión de Nulos\n",
    "\n",
    "nevada_overview = hp.data_overview(nevada_df)\n",
    "nevada_overview"
   ]
  },
  {
   "cell_type": "code",
   "execution_count": null,
   "metadata": {},
   "outputs": [],
   "source": [
    "# Revisión de duplicados\n",
    "\n",
    "nevada_duplicated = nevada_df[['user_id','name','time','rating', 'text','gmap_id']]\n",
    "nevada_duplicated[nevada_duplicated.duplicated()]"
   ]
  },
  {
   "cell_type": "code",
   "execution_count": null,
   "metadata": {},
   "outputs": [],
   "source": [
    "# Revisión de Outliers\n",
    "outliers_columns = ['time','rating']\n",
    "\n",
    "for column in outliers_columns:\n",
    "    hp.outliers_percentage(nevada_df, column)\n",
    "    print(\"-\"*66)"
   ]
  },
  {
   "cell_type": "markdown",
   "metadata": {},
   "source": [
    "New Hampshire"
   ]
  },
  {
   "cell_type": "code",
   "execution_count": null,
   "metadata": {},
   "outputs": [],
   "source": [
    "# Vista Preliminar de Datos\n",
    "\n",
    "print(new_hampshire_df.info())\n",
    "new_hampshire_df.head()"
   ]
  },
  {
   "cell_type": "code",
   "execution_count": null,
   "metadata": {},
   "outputs": [],
   "source": [
    "# Reivsión de Nulos\n",
    "\n",
    "new_hampshire_overview = hp.data_overview(new_hampshire_df)\n",
    "new_hampshire_overview"
   ]
  },
  {
   "cell_type": "code",
   "execution_count": null,
   "metadata": {},
   "outputs": [],
   "source": [
    "# Revisión de duplicados\n",
    "\n",
    "_duplicated = new_hampshire_df[['user_id','name','time','rating', 'text','gmap_id']]\n",
    "_duplicated[_duplicated.duplicated()]"
   ]
  },
  {
   "cell_type": "code",
   "execution_count": null,
   "metadata": {},
   "outputs": [],
   "source": [
    "# Revisión de Outliers\n",
    "outliers_columns = ['time','rating']\n",
    "\n",
    "for column in outliers_columns:\n",
    "    hp.outliers_percentage(new_hampshire_df, column)\n",
    "    print(\"-\"*66)"
   ]
  },
  {
   "cell_type": "markdown",
   "metadata": {},
   "source": [
    "New Jersey"
   ]
  },
  {
   "cell_type": "code",
   "execution_count": null,
   "metadata": {},
   "outputs": [],
   "source": [
    "# Vista Preliminar de Datos\n",
    "\n",
    "print(new_jersey_df.info())\n",
    "new_jersey_df.head()"
   ]
  },
  {
   "cell_type": "code",
   "execution_count": null,
   "metadata": {},
   "outputs": [],
   "source": [
    "# Reivsión de Nulos\n",
    "\n",
    "new_jersey_overview = hp.data_overview(new_jersey_df)\n",
    "new_jersey_overview"
   ]
  },
  {
   "cell_type": "code",
   "execution_count": null,
   "metadata": {},
   "outputs": [],
   "source": [
    "# Revisión de duplicados\n",
    "\n",
    "new_jersey_duplicated = new_jersey_df[['user_id','name','time','rating', 'text','gmap_id']]\n",
    "new_jersey_duplicated[new_jersey_duplicated.duplicated()]"
   ]
  },
  {
   "cell_type": "code",
   "execution_count": null,
   "metadata": {},
   "outputs": [],
   "source": [
    "# Revisión de Outliers\n",
    "outliers_columns = ['time','rating']\n",
    "\n",
    "for column in outliers_columns:\n",
    "    hp.outliers_percentage(new_jersey_df, column)\n",
    "    print(\"-\"*66)"
   ]
  },
  {
   "cell_type": "markdown",
   "metadata": {},
   "source": [
    "New Mexico"
   ]
  },
  {
   "cell_type": "code",
   "execution_count": null,
   "metadata": {},
   "outputs": [],
   "source": [
    "# Vista Preliminar de Datos\n",
    "\n",
    "print(new_mexico_df.info())\n",
    "new_mexico_df.head()"
   ]
  },
  {
   "cell_type": "code",
   "execution_count": null,
   "metadata": {},
   "outputs": [],
   "source": [
    "# Reivsión de Nulos\n",
    "\n",
    "new_mexico_overview = hp.data_overview(new_mexico_df)\n",
    "new_mexico_overview"
   ]
  },
  {
   "cell_type": "code",
   "execution_count": null,
   "metadata": {},
   "outputs": [],
   "source": [
    "# Revisión de duplicados\n",
    "\n",
    "new_mexico_duplicated = new_mexico_df[['user_id','name','time','rating', 'text','gmap_id']]\n",
    "new_mexico_duplicated[new_mexico_duplicated.duplicated()]"
   ]
  },
  {
   "cell_type": "code",
   "execution_count": null,
   "metadata": {},
   "outputs": [],
   "source": [
    "# Revisión de Outliers\n",
    "outliers_columns = ['time','rating']\n",
    "\n",
    "for column in outliers_columns:\n",
    "    hp.outliers_percentage(new_mexico_df, column)\n",
    "    print(\"-\"*66)"
   ]
  },
  {
   "cell_type": "markdown",
   "metadata": {},
   "source": [
    "New York"
   ]
  },
  {
   "cell_type": "code",
   "execution_count": null,
   "metadata": {},
   "outputs": [],
   "source": [
    "# Vista Preliminar de Datos\n",
    "\n",
    "print(new_york_df.info())\n",
    "new_york_df.head()"
   ]
  },
  {
   "cell_type": "code",
   "execution_count": null,
   "metadata": {},
   "outputs": [],
   "source": [
    "# Reivsión de Nulos\n",
    "\n",
    "new_york_overview = hp.data_overview(new_york_df)\n",
    "new_york_overview"
   ]
  },
  {
   "cell_type": "code",
   "execution_count": null,
   "metadata": {},
   "outputs": [],
   "source": [
    "# Revisión de duplicados\n",
    "\n",
    "new_york_duplicated = new_york_df[['user_id','name','time','rating', 'text','gmap_id']]\n",
    "new_york_duplicated[new_york_duplicated.duplicated()]"
   ]
  },
  {
   "cell_type": "code",
   "execution_count": null,
   "metadata": {},
   "outputs": [],
   "source": [
    "# Revisión de Outliers\n",
    "outliers_columns = ['time','rating']\n",
    "\n",
    "for column in outliers_columns:\n",
    "    hp.outliers_percentage(new_york_df, column)\n",
    "    print(\"-\"*66)"
   ]
  },
  {
   "cell_type": "markdown",
   "metadata": {},
   "source": [
    "North Carolina"
   ]
  },
  {
   "cell_type": "code",
   "execution_count": null,
   "metadata": {},
   "outputs": [],
   "source": [
    "# Vista Preliminar de Datos\n",
    "\n",
    "print(north_carolina_df.info())\n",
    "north_carolina_df.head()"
   ]
  },
  {
   "cell_type": "code",
   "execution_count": null,
   "metadata": {},
   "outputs": [],
   "source": [
    "# Reivsión de Nulos\n",
    "\n",
    "north_carolina_overview = hp.data_overview(north_carolina_df)\n",
    "north_carolina_overview"
   ]
  },
  {
   "cell_type": "code",
   "execution_count": null,
   "metadata": {},
   "outputs": [],
   "source": [
    "# Revisión de duplicados\n",
    "\n",
    "north_carolina_duplicated = north_carolina_df[['user_id','name','time','rating', 'text','gmap_id']]\n",
    "north_carolina_duplicated[north_carolina_duplicated.duplicated()]"
   ]
  },
  {
   "cell_type": "code",
   "execution_count": null,
   "metadata": {},
   "outputs": [],
   "source": [
    "# Revisión de Outliers\n",
    "outliers_columns = ['time','rating']\n",
    "\n",
    "for column in outliers_columns:\n",
    "    hp.outliers_percentage(north_carolina_df, column)\n",
    "    print(\"-\"*66)"
   ]
  },
  {
   "cell_type": "markdown",
   "metadata": {},
   "source": [
    "North Dakota"
   ]
  },
  {
   "cell_type": "code",
   "execution_count": null,
   "metadata": {},
   "outputs": [],
   "source": [
    "# Vista Preliminar de Datos\n",
    "\n",
    "print(north_dakota_df.info())\n",
    "north_dakota_df.head()"
   ]
  },
  {
   "cell_type": "code",
   "execution_count": null,
   "metadata": {},
   "outputs": [],
   "source": [
    "# Reivsión de Nulos\n",
    "\n",
    "north_dakota_overview = hp.data_overview(north_dakota_df)\n",
    "north_dakota_overview"
   ]
  },
  {
   "cell_type": "code",
   "execution_count": null,
   "metadata": {},
   "outputs": [],
   "source": [
    "# Revisión de duplicados\n",
    "\n",
    "north_dakota_duplicated = north_dakota_df[['user_id','name','time','rating', 'text','gmap_id']]\n",
    "north_dakota_duplicated[north_dakota_duplicated.duplicated()]"
   ]
  },
  {
   "cell_type": "code",
   "execution_count": null,
   "metadata": {},
   "outputs": [],
   "source": [
    "# Revisión de Outliers\n",
    "outliers_columns = ['time','rating']\n",
    "\n",
    "for column in outliers_columns:\n",
    "    hp.outliers_percentage(north_dakota_df, column)\n",
    "    print(\"-\"*66)"
   ]
  },
  {
   "cell_type": "markdown",
   "metadata": {},
   "source": [
    "Ohio"
   ]
  },
  {
   "cell_type": "code",
   "execution_count": null,
   "metadata": {},
   "outputs": [],
   "source": [
    "# Vista Preliminar de Datos\n",
    "\n",
    "print(ohio_df.info())\n",
    "ohio_df.head()"
   ]
  },
  {
   "cell_type": "code",
   "execution_count": null,
   "metadata": {},
   "outputs": [],
   "source": [
    "# Reivsión de Nulos\n",
    "\n",
    "ohio_overview = hp.data_overview(ohio_df)\n",
    "ohio_overview"
   ]
  },
  {
   "cell_type": "code",
   "execution_count": null,
   "metadata": {},
   "outputs": [],
   "source": [
    "# Revisión de duplicados\n",
    "\n",
    "ohio_duplicated = ohio_df[['user_id','name','time','rating', 'text','gmap_id']]\n",
    "ohio_duplicated[ohio_duplicated.duplicated()]"
   ]
  },
  {
   "cell_type": "code",
   "execution_count": null,
   "metadata": {},
   "outputs": [],
   "source": [
    "# Revisión de Outliers\n",
    "outliers_columns = ['time','rating']\n",
    "\n",
    "for column in outliers_columns:\n",
    "    hp.outliers_percentage(ohio_df, column)\n",
    "    print(\"-\"*66)"
   ]
  },
  {
   "cell_type": "markdown",
   "metadata": {},
   "source": [
    "Oklahoma"
   ]
  },
  {
   "cell_type": "code",
   "execution_count": null,
   "metadata": {},
   "outputs": [],
   "source": [
    "# Vista Preliminar de Datos\n",
    "\n",
    "print(oklahoma_df.info())\n",
    "oklahoma_df.head()"
   ]
  },
  {
   "cell_type": "code",
   "execution_count": null,
   "metadata": {},
   "outputs": [],
   "source": [
    "# Reivsión de Nulos\n",
    "\n",
    "oklahoma_overview = hp.data_overview(oklahoma_df)\n",
    "oklahoma_overview"
   ]
  },
  {
   "cell_type": "code",
   "execution_count": null,
   "metadata": {},
   "outputs": [],
   "source": [
    "# Revisión de duplicados\n",
    "\n",
    "oklahoma_duplicated = oklahoma_df[['user_id','name','time','rating', 'text','gmap_id']]\n",
    "oklahoma_duplicated[oklahoma_duplicated.duplicated()]"
   ]
  },
  {
   "cell_type": "code",
   "execution_count": null,
   "metadata": {},
   "outputs": [],
   "source": [
    "# Revisión de Outliers\n",
    "outliers_columns = ['time','rating']\n",
    "\n",
    "for column in outliers_columns:\n",
    "    hp.outliers_percentage(oklahoma_df, column)\n",
    "    print(\"-\"*66)"
   ]
  },
  {
   "cell_type": "markdown",
   "metadata": {},
   "source": [
    "Oregon"
   ]
  },
  {
   "cell_type": "code",
   "execution_count": null,
   "metadata": {},
   "outputs": [],
   "source": [
    "# Vista Preliminar de Datos\n",
    "\n",
    "print(oregon_df.info())\n",
    "oregon_df.head()"
   ]
  },
  {
   "cell_type": "code",
   "execution_count": null,
   "metadata": {},
   "outputs": [],
   "source": [
    "# Reivsión de Nulos\n",
    "\n",
    "oregon_overview = hp.data_overview(oregon_df)\n",
    "oregon_overview"
   ]
  },
  {
   "cell_type": "code",
   "execution_count": null,
   "metadata": {},
   "outputs": [],
   "source": [
    "# Revisión de duplicados\n",
    "\n",
    "oregon_duplicated = oregon_df[['user_id','name','time','rating', 'text','gmap_id']]\n",
    "oregon_duplicated[oregon_duplicated.duplicated()]"
   ]
  },
  {
   "cell_type": "code",
   "execution_count": null,
   "metadata": {},
   "outputs": [],
   "source": [
    "# Revisión de Outliers\n",
    "outliers_columns = ['time','rating']\n",
    "\n",
    "for column in outliers_columns:\n",
    "    hp.outliers_percentage(oregon_df, column)\n",
    "    print(\"-\"*66)"
   ]
  },
  {
   "cell_type": "markdown",
   "metadata": {},
   "source": [
    "Pennsylvania"
   ]
  },
  {
   "cell_type": "code",
   "execution_count": null,
   "metadata": {},
   "outputs": [],
   "source": [
    "# Vista Preliminar de Datos\n",
    "\n",
    "print(pennsylvania_df.info())\n",
    "pennsylvania_df.head()"
   ]
  },
  {
   "cell_type": "code",
   "execution_count": null,
   "metadata": {},
   "outputs": [],
   "source": [
    "# Reivsión de Nulos\n",
    "\n",
    "pennsylvania_overview = hp.data_overview(pennsylvania_df)\n",
    "pennsylvania_overview"
   ]
  },
  {
   "cell_type": "code",
   "execution_count": null,
   "metadata": {},
   "outputs": [],
   "source": [
    "# Revisión de duplicados\n",
    "\n",
    "pennsylvania_duplicated = pennsylvania_df[['user_id','name','time','rating', 'text','gmap_id']]\n",
    "pennsylvania_duplicated[pennsylvania_duplicated.duplicated()]"
   ]
  },
  {
   "cell_type": "code",
   "execution_count": null,
   "metadata": {},
   "outputs": [],
   "source": [
    "# Revisión de Outliers\n",
    "outliers_columns = ['time','rating']\n",
    "\n",
    "for column in outliers_columns:\n",
    "    hp.outliers_percentage(pennsylvania_df, column)\n",
    "    print(\"-\"*66)"
   ]
  },
  {
   "cell_type": "markdown",
   "metadata": {},
   "source": [
    "### Save Merged Files"
   ]
  },
  {
   "cell_type": "code",
   "execution_count": null,
   "metadata": {},
   "outputs": [],
   "source": [
    "montana_df.to_parquet('../States-Reviews/montana_reviews.parquet')\n",
    "nebraska_df.to_parquet('../States-Reviews/nebraska_reviews.parquet')\n",
    "nevada_df.to_parquet('../States-Reviews/nevada_reviews.parquet')\n",
    "new_hampshire_df.to_parquet('../States-Reviews/new_hampshire_reviews.parquet')\n",
    "new_jersey_df.to_parquet('../States-Reviews/new_jersey_reviews.parquet')\n",
    "new_mexico_df.to_parquet('../States-Reviews/new_mexico_reviews.parquet')\n",
    "new_york_df.to_parquet('../States-Reviews/new_york_reviews.parquet')\n",
    "north_carolina_df.to_parquet('../States-Reviews/north_carolina_reviews.parquet')\n",
    "north_dakota_df.to_parquet('../States-Reviews/north_dakota_reviews.parquet')\n",
    "ohio_df.to_parquet('../States-Reviews/ohio_reviews.parquet')\n",
    "oklahoma_df.to_parquet('../States-Reviews/oklahoma_reviews.parquet')\n",
    "oregon_df.to_parquet('../States-Reviews/oregon_reviews.parquet')\n",
    "pennsylvania_df.to_parquet('../States-Reviews/pennsylvania_reviews.parquet')"
   ]
  }
 ],
 "metadata": {
  "kernelspec": {
   "display_name": ".venv",
   "language": "python",
   "name": "python3"
  },
  "language_info": {
   "codemirror_mode": {
    "name": "ipython",
    "version": 3
   },
   "file_extension": ".py",
   "mimetype": "text/x-python",
   "name": "python",
   "nbconvert_exporter": "python",
   "pygments_lexer": "ipython3",
   "version": "3.12.0"
  }
 },
 "nbformat": 4,
 "nbformat_minor": 2
}
