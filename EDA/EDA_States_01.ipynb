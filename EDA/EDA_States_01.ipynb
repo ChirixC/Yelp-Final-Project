{
 "cells": [
  {
   "cell_type": "code",
   "execution_count": null,
   "metadata": {},
   "outputs": [],
   "source": [
    "import pandas as pd\n",
    "import matplotlib.pyplot as plt\n",
    "import seaborn as sns\n",
    "import helper as hp\n",
    "import warnings\n",
    "warnings.filterwarnings('ignore')"
   ]
  },
  {
   "cell_type": "markdown",
   "metadata": {},
   "source": [
    "## Table of Content\n",
    "\n",
    "### Google\n",
    "\n",
    "### States"
   ]
  },
  {
   "cell_type": "code",
   "execution_count": null,
   "metadata": {},
   "outputs": [],
   "source": [
    "alabama_df = hp.merge_dataframes(\"Datasets/Google Maps/reviews-estados/review-Alabama\", 12)\n",
    "alaska_df = hp.merge_dataframes(\"Datasets/Google Maps/reviews-estados/review-Alaska\", 4)\n",
    "arizona_df = hp.merge_dataframes(\"Datasets/Google Maps/reviews-estados/review-Arizona\", 14)\n",
    "arkansas_df = hp.merge_dataframes(\"Datasets/Google Maps/reviews-estados/review-Arkansas\", 16)\n",
    "california_df = hp.merge_dataframes(\"Datasets/Google Maps/reviews-estados/review-California\", 18)\n",
    "colorado_df = hp.merge_dataframes(\"Datasets/Google Maps/reviews-estados/review-Colorado\", 16)\n",
    "connecticut_df = hp.merge_dataframes(\"Datasets/Google Maps/reviews-estados/review-Connecticut\", 18)\n",
    "delaware_df = hp.merge_dataframes(\"Datasets/Google Maps/reviews-estados/review-Delaware\", 7)\n",
    "columbia_df = hp.merge_dataframes(\"Datasets/Google Maps/reviews-estados/review-District_of_Columbia\", 4)\n",
    "florida_df = hp.merge_dataframes(\"Datasets/Google Maps/reviews-estados/review-Florida\", 19)\n",
    "georgia_df = hp.merge_dataframes(\"Datasets/Google Maps/reviews-estados/review-Georgia\", 13)\n",
    "hawaii_df = hp.merge_dataframes(\"Datasets/Google Maps/reviews-estados/review-Hawaii\", 11)\n",
    "idaho_df= hp.merge_dataframes(\"Datasets/Google Maps/reviews-estados/review-Idaho\", 14)"
   ]
  },
  {
   "cell_type": "markdown",
   "metadata": {},
   "source": [
    "### Alabama"
   ]
  },
  {
   "cell_type": "code",
   "execution_count": null,
   "metadata": {},
   "outputs": [],
   "source": [
    "# Vista Preliminar de Datos\n",
    "print(alabama_df.info())\n",
    "alabama_df.head()"
   ]
  },
  {
   "cell_type": "code",
   "execution_count": null,
   "metadata": {},
   "outputs": [],
   "source": [
    "# Revisión de Nulos\n",
    "alabama_overview = hp.data_overview(alabama_df)\n",
    "alabama_overview"
   ]
  },
  {
   "cell_type": "code",
   "execution_count": null,
   "metadata": {},
   "outputs": [],
   "source": [
    "# Revisión de Duplicados\n",
    "alabama_duplicated = alabama_df[['user_id', 'name', 'time', 'rating', 'text', 'gmap_id']]\n",
    "alabama_duplicated[alabama_duplicated.duplicated()]"
   ]
  },
  {
   "cell_type": "code",
   "execution_count": null,
   "metadata": {},
   "outputs": [],
   "source": [
    "# Revisión de Outliers\n",
    "outliers_columns = ['time','rating']\n",
    "\n",
    "for column in outliers_columns:\n",
    "    hp.outliers_percentage(alabama_df, column)\n",
    "    print(\"-\"*66)"
   ]
  },
  {
   "cell_type": "markdown",
   "metadata": {},
   "source": [
    "### Alaska"
   ]
  },
  {
   "cell_type": "code",
   "execution_count": null,
   "metadata": {},
   "outputs": [],
   "source": [
    "# Vista Preliminar de Datos\n",
    "print(alaska_df.info())\n",
    "alaska_df.head()"
   ]
  },
  {
   "cell_type": "code",
   "execution_count": null,
   "metadata": {},
   "outputs": [],
   "source": [
    "# Revisión de Nulos\n",
    "alaska_overview = hp.data_overview(alaska_df)\n",
    "alaska_overview"
   ]
  },
  {
   "cell_type": "code",
   "execution_count": null,
   "metadata": {},
   "outputs": [],
   "source": [
    "# Revisión de Duplicados\n",
    "alaska_duplicated = alaska_df[['user_id', 'name', 'time', 'rating', 'text', 'gmap_id']]\n",
    "alaska_duplicated[alaska_duplicated.duplicated()]"
   ]
  },
  {
   "cell_type": "code",
   "execution_count": null,
   "metadata": {},
   "outputs": [],
   "source": [
    "# Revisión de Outliers\n",
    "outliers_columns = ['time','rating']\n",
    "\n",
    "for column in outliers_columns:\n",
    "    hp.outliers_percentage(alaska_df, column)\n",
    "    print(\"-\"*66)"
   ]
  },
  {
   "cell_type": "markdown",
   "metadata": {},
   "source": [
    "### Arizona"
   ]
  },
  {
   "cell_type": "code",
   "execution_count": null,
   "metadata": {},
   "outputs": [],
   "source": [
    "# Vista Preliminar de Datos\n",
    "print(arizona_df.info())\n",
    "arizona_df.head()"
   ]
  },
  {
   "cell_type": "code",
   "execution_count": null,
   "metadata": {},
   "outputs": [],
   "source": [
    "# Revisión de Nulos\n",
    "arizona_overview = hp.data_overview(arizona_df)\n",
    "arizona_overview"
   ]
  },
  {
   "cell_type": "code",
   "execution_count": null,
   "metadata": {},
   "outputs": [],
   "source": [
    "# Revisión de Duplicados\n",
    "arizona_duplicated = arizona_df[['user_id', 'name', 'time', 'rating', 'text', 'gmap_id']]\n",
    "arizona_duplicated[arizona_duplicated.duplicated()]"
   ]
  },
  {
   "cell_type": "code",
   "execution_count": null,
   "metadata": {},
   "outputs": [],
   "source": [
    "# Revisión de Outliers\n",
    "outliers_columns = ['time','rating']\n",
    "\n",
    "for column in outliers_columns:\n",
    "    hp.outliers_percentage(arizona_df, column)\n",
    "    print(\"-\"*66)"
   ]
  },
  {
   "cell_type": "markdown",
   "metadata": {},
   "source": [
    "### Arkansas"
   ]
  },
  {
   "cell_type": "code",
   "execution_count": null,
   "metadata": {},
   "outputs": [],
   "source": [
    "# Vista Preliminar de Datos\n",
    "print(arkansas_df.info())\n",
    "arkansas_df.head()"
   ]
  },
  {
   "cell_type": "code",
   "execution_count": null,
   "metadata": {},
   "outputs": [],
   "source": [
    "# Revisión de Nulos\n",
    "arkansas_overview = hp.data_overview(arkansas_df)\n",
    "arkansas_overview"
   ]
  },
  {
   "cell_type": "code",
   "execution_count": null,
   "metadata": {},
   "outputs": [],
   "source": [
    "# Revisión de Duplicados\n",
    "arkansas_duplicated = arkansas_df[['user_id', 'name', 'time', 'rating', 'text', 'gmap_id']]\n",
    "arkansas_duplicated[arkansas_duplicated.duplicated()]"
   ]
  },
  {
   "cell_type": "code",
   "execution_count": null,
   "metadata": {},
   "outputs": [],
   "source": [
    "# Revisión de Outliers\n",
    "outliers_columns = ['time','rating']\n",
    "\n",
    "for column in outliers_columns:\n",
    "    hp.outliers_percentage(arkansas_df, column)\n",
    "    print(\"-\"*66)"
   ]
  },
  {
   "cell_type": "markdown",
   "metadata": {},
   "source": [
    "### California"
   ]
  },
  {
   "cell_type": "code",
   "execution_count": null,
   "metadata": {},
   "outputs": [],
   "source": [
    "# Vista Preliminar de Datos\n",
    "print(california_df.info())\n",
    "california_df.head()"
   ]
  },
  {
   "cell_type": "code",
   "execution_count": null,
   "metadata": {},
   "outputs": [],
   "source": [
    "# Revisión de Nulos\n",
    "california_overview = hp.data_overview(california_df)\n",
    "california_overview"
   ]
  },
  {
   "cell_type": "code",
   "execution_count": null,
   "metadata": {},
   "outputs": [],
   "source": [
    "# Revisión de Duplicados\n",
    "california_duplicated = california_df[['user_id', 'name', 'time', 'rating', 'text', 'gmap_id']]\n",
    "california_duplicated[california_duplicated.duplicated()]"
   ]
  },
  {
   "cell_type": "code",
   "execution_count": null,
   "metadata": {},
   "outputs": [],
   "source": [
    "# Revisión de Outliers\n",
    "outliers_columns = ['time','rating']\n",
    "\n",
    "for column in outliers_columns:\n",
    "    hp.outliers_percentage(california_df, column)\n",
    "    print(\"-\"*66)"
   ]
  },
  {
   "cell_type": "markdown",
   "metadata": {},
   "source": [
    "### Colorado"
   ]
  },
  {
   "cell_type": "code",
   "execution_count": null,
   "metadata": {},
   "outputs": [],
   "source": [
    "# Vista Preliminar de Datos\n",
    "print(colorado_df.info())\n",
    "colorado_df.head()"
   ]
  },
  {
   "cell_type": "code",
   "execution_count": null,
   "metadata": {},
   "outputs": [],
   "source": [
    "# Revisión de Nulos\n",
    "colorado_overview = hp.data_overview(colorado_df)\n",
    "colorado_overview"
   ]
  },
  {
   "cell_type": "code",
   "execution_count": null,
   "metadata": {},
   "outputs": [],
   "source": [
    "# Revisión de Duplicados\n",
    "colorado_duplicated = colorado_df[['user_id', 'name', 'time', 'rating', 'text', 'gmap_id']]\n",
    "colorado_duplicated[colorado_duplicated.duplicated()]"
   ]
  },
  {
   "cell_type": "code",
   "execution_count": null,
   "metadata": {},
   "outputs": [],
   "source": [
    "# Revisión de Outliers\n",
    "outliers_columns = ['time','rating']\n",
    "\n",
    "for column in outliers_columns:\n",
    "    hp.outliers_percentage(colorado_df, column)\n",
    "    print(\"-\"*66)"
   ]
  },
  {
   "cell_type": "markdown",
   "metadata": {},
   "source": [
    "### Connecticut"
   ]
  },
  {
   "cell_type": "code",
   "execution_count": null,
   "metadata": {},
   "outputs": [],
   "source": [
    "# Vista Preliminar de Datos\n",
    "print(connecticut_df.info())\n",
    "connecticut_df.head()"
   ]
  },
  {
   "cell_type": "code",
   "execution_count": null,
   "metadata": {},
   "outputs": [],
   "source": [
    "# Revisión de Nulos\n",
    "connecticut_overview = hp.data_overview(connecticut_df)\n",
    "connecticut_overview"
   ]
  },
  {
   "cell_type": "code",
   "execution_count": null,
   "metadata": {},
   "outputs": [],
   "source": [
    "# Revisión de Duplicados\n",
    "connecticut_duplicated = connecticut_df[['user_id', 'name', 'time', 'rating', 'text', 'gmap_id']]\n",
    "connecticut_duplicated[connecticut_duplicated.duplicated()]"
   ]
  },
  {
   "cell_type": "code",
   "execution_count": null,
   "metadata": {},
   "outputs": [],
   "source": [
    "# Revisión de Outliers\n",
    "outliers_columns = ['time','rating']\n",
    "\n",
    "for column in outliers_columns:\n",
    "    hp.outliers_percentage(connecticut_df, column)\n",
    "    print(\"-\"*66)"
   ]
  },
  {
   "cell_type": "markdown",
   "metadata": {},
   "source": [
    "### Delaware"
   ]
  },
  {
   "cell_type": "code",
   "execution_count": null,
   "metadata": {},
   "outputs": [],
   "source": [
    "# Vista Preliminar de Datos\n",
    "print(delaware_df.info())\n",
    "delaware_df.head()"
   ]
  },
  {
   "cell_type": "code",
   "execution_count": null,
   "metadata": {},
   "outputs": [],
   "source": [
    "# Revisión de Nulos\n",
    "delaware_overview = hp.data_overview(delaware_df)\n",
    "delaware_overview"
   ]
  },
  {
   "cell_type": "code",
   "execution_count": null,
   "metadata": {},
   "outputs": [],
   "source": [
    "# Revisión de Duplicados\n",
    "delaware_duplicated = delaware_df[['user_id', 'name', 'time', 'rating', 'text', 'gmap_id']]\n",
    "delaware_duplicated[delaware_duplicated.duplicated()]"
   ]
  },
  {
   "cell_type": "code",
   "execution_count": null,
   "metadata": {},
   "outputs": [],
   "source": [
    "# Revisión de Outliers\n",
    "outliers_columns = ['time','rating']\n",
    "\n",
    "for column in outliers_columns:\n",
    "    hp.outliers_percentage(delaware_df, column)\n",
    "    print(\"-\"*66)"
   ]
  },
  {
   "cell_type": "markdown",
   "metadata": {},
   "source": [
    "### District of Columbia"
   ]
  },
  {
   "cell_type": "code",
   "execution_count": null,
   "metadata": {},
   "outputs": [],
   "source": [
    "# Vista Preliminar de Datos\n",
    "print(columbia_df.info())\n",
    "columbia_df.head()"
   ]
  },
  {
   "cell_type": "code",
   "execution_count": null,
   "metadata": {},
   "outputs": [],
   "source": [
    "# Revisión de Nulos\n",
    "columbia_overview = hp.data_overview(columbia_df)\n",
    "columbia_overview"
   ]
  },
  {
   "cell_type": "code",
   "execution_count": null,
   "metadata": {},
   "outputs": [],
   "source": [
    "# Revisión de Duplicados\n",
    "columbia_duplicated = columbia_df[['user_id', 'name', 'time', 'rating', 'text', 'gmap_id']]\n",
    "columbia_duplicated[columbia_duplicated.duplicated()]"
   ]
  },
  {
   "cell_type": "code",
   "execution_count": null,
   "metadata": {},
   "outputs": [],
   "source": [
    "# Revisión de Outliers\n",
    "outliers_columns = ['time','rating']\n",
    "\n",
    "for column in outliers_columns:\n",
    "    hp.outliers_percentage(columbia_df, column)\n",
    "    print(\"-\"*66)"
   ]
  },
  {
   "cell_type": "markdown",
   "metadata": {},
   "source": [
    "### Florida"
   ]
  },
  {
   "cell_type": "code",
   "execution_count": null,
   "metadata": {},
   "outputs": [],
   "source": [
    "# Vista Preliminar de Datos\n",
    "print(florida_df.info())\n",
    "florida_df.head()"
   ]
  },
  {
   "cell_type": "code",
   "execution_count": null,
   "metadata": {},
   "outputs": [],
   "source": [
    "# Revisión de Nulos\n",
    "florida_overview = hp.data_overview(florida_df)\n",
    "florida_overview"
   ]
  },
  {
   "cell_type": "code",
   "execution_count": null,
   "metadata": {},
   "outputs": [],
   "source": [
    "# Revisión de Duplicados\n",
    "florida_duplicated = florida_df[['user_id', 'name', 'time', 'rating', 'text', 'gmap_id']]\n",
    "florida_duplicated[florida_duplicated.duplicated()]"
   ]
  },
  {
   "cell_type": "code",
   "execution_count": null,
   "metadata": {},
   "outputs": [],
   "source": [
    "# Revisión de Outliers\n",
    "outliers_columns = ['time','rating']\n",
    "\n",
    "for column in outliers_columns:\n",
    "    hp.outliers_percentage(florida_df, column)\n",
    "    print(\"-\"*66)"
   ]
  },
  {
   "cell_type": "markdown",
   "metadata": {},
   "source": [
    "### Georgia"
   ]
  },
  {
   "cell_type": "code",
   "execution_count": null,
   "metadata": {},
   "outputs": [],
   "source": [
    "# Vista Preliminar de Datos\n",
    "print(georgia_df.info())\n",
    "georgia_df.head()"
   ]
  },
  {
   "cell_type": "code",
   "execution_count": null,
   "metadata": {},
   "outputs": [],
   "source": [
    "# Revisión de Nulos\n",
    "georgia_overview = hp.data_overview(georgia_df)\n",
    "georgia_overview"
   ]
  },
  {
   "cell_type": "code",
   "execution_count": null,
   "metadata": {},
   "outputs": [],
   "source": [
    "# Revisión de Duplicados\n",
    "georgia_duplicated = georgia_df[['user_id', 'name', 'time', 'rating', 'text', 'gmap_id']]\n",
    "georgia_duplicated[georgia_duplicated.duplicated()]"
   ]
  },
  {
   "cell_type": "code",
   "execution_count": null,
   "metadata": {},
   "outputs": [],
   "source": [
    "# Revisión de Outliers\n",
    "outliers_columns = ['time','rating']\n",
    "\n",
    "for column in outliers_columns:\n",
    "    hp.outliers_percentage(georgia_df, column)\n",
    "    print(\"-\"*66)"
   ]
  },
  {
   "cell_type": "markdown",
   "metadata": {},
   "source": [
    "### Hawaii"
   ]
  },
  {
   "cell_type": "code",
   "execution_count": null,
   "metadata": {},
   "outputs": [],
   "source": [
    "# Vista Preliminar de Datos\n",
    "print(hawaii_df.info())\n",
    "hawaii_df.head()"
   ]
  },
  {
   "cell_type": "code",
   "execution_count": null,
   "metadata": {},
   "outputs": [],
   "source": [
    "# Revisión de Nulos\n",
    "hawaii_overview = hp.data_overview(hawaii_df)\n",
    "hawaii_overview"
   ]
  },
  {
   "cell_type": "code",
   "execution_count": null,
   "metadata": {},
   "outputs": [],
   "source": [
    "# Revisión de Duplicados\n",
    "hawaii_duplicated = hawaii_df[['user_id', 'name', 'time', 'rating', 'text', 'gmap_id']]\n",
    "hawaii_duplicated[hawaii_duplicated.duplicated()]"
   ]
  },
  {
   "cell_type": "code",
   "execution_count": null,
   "metadata": {},
   "outputs": [],
   "source": [
    "# Revisión de Outliers\n",
    "outliers_columns = ['time','rating']\n",
    "\n",
    "for column in outliers_columns:\n",
    "    hp.outliers_percentage(hawaii_df, column)\n",
    "    print(\"-\"*66)"
   ]
  },
  {
   "cell_type": "markdown",
   "metadata": {},
   "source": [
    "### Idaho"
   ]
  },
  {
   "cell_type": "code",
   "execution_count": null,
   "metadata": {},
   "outputs": [],
   "source": [
    "# Vista Preliminar de Datos\n",
    "print(idaho_df.info())\n",
    "idaho_df.head()"
   ]
  },
  {
   "cell_type": "code",
   "execution_count": null,
   "metadata": {},
   "outputs": [],
   "source": [
    "# Revisión de Nulos\n",
    "idaho_overview = hp.data_overview(idaho_df)\n",
    "idaho_overview"
   ]
  },
  {
   "cell_type": "code",
   "execution_count": null,
   "metadata": {},
   "outputs": [],
   "source": [
    "# Revisión de Duplicados\n",
    "idaho_duplicated = idaho_df[['user_id', 'name', 'time', 'rating', 'text', 'gmap_id']]\n",
    "idaho_duplicated[idaho_duplicated.duplicated()]"
   ]
  },
  {
   "cell_type": "code",
   "execution_count": null,
   "metadata": {},
   "outputs": [],
   "source": [
    "# Revisión de Outliers\n",
    "outliers_columns = ['time','rating']\n",
    "\n",
    "for column in outliers_columns:\n",
    "    hp.outliers_percentage(idaho_df, column)\n",
    "    print(\"-\"*66)"
   ]
  },
  {
   "cell_type": "markdown",
   "metadata": {},
   "source": [
    "### Save Merged Files"
   ]
  },
  {
   "cell_type": "code",
   "execution_count": null,
   "metadata": {},
   "outputs": [],
   "source": [
    "alabama_df.to_parquet('Datasets/Parquets/alabama_reviews.parquet')\n",
    "alaska_df.to_parquet('Datasets/Parquets/alaska_reviews.parquet')\n",
    "arizona_df.to_parquet('Datasets/Parquets/arizona_reviews.parquet')\n",
    "arkansas_df.to_parquet('Datasets/Parquets/arkansas_reviews.parquet')\n",
    "california_df.to_parquet('Datasets/Parquets/california_reviews.parquet')\n",
    "colorado_df.to_parquet('Datasets/Parquets/colorado_reviews.parquet')\n",
    "connecticut_df.to_parquet('Datasets/Parquets/connecticut_reviews.parquet')\n",
    "delaware_df.to_parquet('Datasets/Parquets/delaware_reviews.parquet')\n",
    "columbia_df.to_parquet('Datasets/Parquets/columbia_reviews.parquet')\n",
    "florida_df.to_parquet('Datasets/Parquets/florida_reviews.parquet')\n",
    "georgia_df.to_parquet('Datasets/Parquets/georgia_reviews.parquet')\n",
    "hawaii_df.to_parquet('Datasets/Parquets/hawaii_reviews.parquet')\n",
    "idaho_df.to_parquet('Datasets/Parquets/idaho_reviews.parquet')"
   ]
  },
  {
   "cell_type": "markdown",
   "metadata": {},
   "source": [
    "## YELP"
   ]
  },
  {
   "cell_type": "code",
   "execution_count": null,
   "metadata": {},
   "outputs": [],
   "source": [
    "business_df = pd.read_pickle(\"Datasets/Yelp/business.pkl\")"
   ]
  },
  {
   "cell_type": "code",
   "execution_count": null,
   "metadata": {},
   "outputs": [],
   "source": [
    "business_df.head()"
   ]
  },
  {
   "cell_type": "code",
   "execution_count": null,
   "metadata": {},
   "outputs": [],
   "source": [
    "# Se realiza una máscara del df, ya que se encuentra con columnas duplicadas\n",
    "business_df_mask = business_df.iloc[:, :14].copy()\n",
    "business_df_mask.head()"
   ]
  },
  {
   "cell_type": "code",
   "execution_count": null,
   "metadata": {},
   "outputs": [],
   "source": [
    "business_df_mask.info()"
   ]
  },
  {
   "cell_type": "code",
   "execution_count": null,
   "metadata": {},
   "outputs": [],
   "source": [
    "# Revisión de Nulos\n",
    "business_overview = hp.data_overview(business_df_mask)\n",
    "business_overview"
   ]
  },
  {
   "cell_type": "code",
   "execution_count": null,
   "metadata": {},
   "outputs": [],
   "source": [
    "# Revisión de Duplicados\n",
    "business_duplicated = business_df_mask[['business_id', 'name', 'address', 'city', 'state', 'postal_code', 'latitude', 'longitude', 'stars', 'review_count', 'is_open', 'categories']]\n",
    "business_duplicated[business_duplicated.duplicated()]"
   ]
  },
  {
   "cell_type": "code",
   "execution_count": null,
   "metadata": {},
   "outputs": [],
   "source": [
    "# Revisión de Outliers\n",
    "outliers_columns = ['stars', 'review_count', 'is_open']\n",
    "\n",
    "for column in outliers_columns:\n",
    "    hp.outliers_percentage(business_df_mask, column)\n",
    "    print(\"-\"*66)"
   ]
  }
 ],
 "metadata": {
  "kernelspec": {
   "display_name": "Python 3",
   "language": "python",
   "name": "python3"
  },
  "language_info": {
   "codemirror_mode": {
    "name": "ipython",
    "version": 3
   },
   "file_extension": ".py",
   "mimetype": "text/x-python",
   "name": "python",
   "nbconvert_exporter": "python",
   "pygments_lexer": "ipython3",
   "version": "3.10.0rc2"
  }
 },
 "nbformat": 4,
 "nbformat_minor": 2
}
