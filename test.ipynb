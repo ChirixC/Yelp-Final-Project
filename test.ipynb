{
 "cells": [
  {
   "cell_type": "code",
   "execution_count": 1,
   "metadata": {},
   "outputs": [
    {
     "name": "stdout",
     "output_type": "stream",
     "text": [
      "This is a test\n",
      "test in branch\n"
     ]
    }
   ],
   "source": [
    "print(\"This is a test\")\n",
    "print(\"test in branch\")"
   ]
  },
  {
   "cell_type": "code",
   "execution_count": 1,
   "metadata": {},
   "outputs": [],
   "source": [
    "import pandas as pd\n",
    "import matplotlib.pyplot as plt\n",
    "import seaborn as sns\n",
    "import numpy as np\n",
    "import warnings\n",
    "from Utils import helper as hp\n",
    "warnings.filterwarnings('ignore')"
   ]
  },
  {
   "cell_type": "code",
   "execution_count": 4,
   "metadata": {},
   "outputs": [],
   "source": [
    "new_york_df = hp.merge_dataframes('TestData/Google/States-Reviews/review-New_York',18)"
   ]
  },
  {
   "cell_type": "code",
   "execution_count": 5,
   "metadata": {},
   "outputs": [
    {
     "data": {
      "text/html": [
       "<div>\n",
       "<style scoped>\n",
       "    .dataframe tbody tr th:only-of-type {\n",
       "        vertical-align: middle;\n",
       "    }\n",
       "\n",
       "    .dataframe tbody tr th {\n",
       "        vertical-align: top;\n",
       "    }\n",
       "\n",
       "    .dataframe thead th {\n",
       "        text-align: right;\n",
       "    }\n",
       "</style>\n",
       "<table border=\"1\" class=\"dataframe\">\n",
       "  <thead>\n",
       "    <tr style=\"text-align: right;\">\n",
       "      <th></th>\n",
       "      <th>user_id</th>\n",
       "      <th>name</th>\n",
       "      <th>time</th>\n",
       "      <th>rating</th>\n",
       "      <th>text</th>\n",
       "      <th>pics</th>\n",
       "      <th>resp</th>\n",
       "      <th>gmap_id</th>\n",
       "    </tr>\n",
       "  </thead>\n",
       "  <tbody>\n",
       "    <tr>\n",
       "      <th>0</th>\n",
       "      <td>113722104692308235141</td>\n",
       "      <td>Alvin Martinez</td>\n",
       "      <td>1603494795361</td>\n",
       "      <td>5</td>\n",
       "      <td>I'm late to posting this but this store especi...</td>\n",
       "      <td>[{'url': ['https://lh5.googleusercontent.com/p...</td>\n",
       "      <td>None</td>\n",
       "      <td>0x89c25fc9494dce47:0x6d63c807b59a55</td>\n",
       "    </tr>\n",
       "    <tr>\n",
       "      <th>1</th>\n",
       "      <td>107293441492109320298</td>\n",
       "      <td>Johnnie Jackson</td>\n",
       "      <td>1620157037403</td>\n",
       "      <td>1</td>\n",
       "      <td>Very dissatisfied I did not get my phone the p...</td>\n",
       "      <td>None</td>\n",
       "      <td>{'time': 1620268360920, 'text': 'We pride ours...</td>\n",
       "      <td>0x89c25fc9494dce47:0x6d63c807b59a55</td>\n",
       "    </tr>\n",
       "    <tr>\n",
       "      <th>2</th>\n",
       "      <td>100378585801819400296</td>\n",
       "      <td>Manie Blazer</td>\n",
       "      <td>1597431662039</td>\n",
       "      <td>5</td>\n",
       "      <td>Excellent very well done with professional car...</td>\n",
       "      <td>None</td>\n",
       "      <td>None</td>\n",
       "      <td>0x89c25fc9494dce47:0x6d63c807b59a55</td>\n",
       "    </tr>\n",
       "    <tr>\n",
       "      <th>3</th>\n",
       "      <td>114998161153019826512</td>\n",
       "      <td>Fashion Fiinds</td>\n",
       "      <td>1543773862044</td>\n",
       "      <td>5</td>\n",
       "      <td>Basing my review strictly on the service I rec...</td>\n",
       "      <td>None</td>\n",
       "      <td>{'time': 1543855317372, 'text': 'Thanks for th...</td>\n",
       "      <td>0x89c25fc9494dce47:0x6d63c807b59a55</td>\n",
       "    </tr>\n",
       "    <tr>\n",
       "      <th>4</th>\n",
       "      <td>117178185728422297915</td>\n",
       "      <td>Andres Rieloff</td>\n",
       "      <td>1597279097718</td>\n",
       "      <td>1</td>\n",
       "      <td>Bad! Disorganized. I'm being totally honest. I...</td>\n",
       "      <td>None</td>\n",
       "      <td>None</td>\n",
       "      <td>0x89c25fc9494dce47:0x6d63c807b59a55</td>\n",
       "    </tr>\n",
       "  </tbody>\n",
       "</table>\n",
       "</div>"
      ],
      "text/plain": [
       "                 user_id             name           time  rating  \\\n",
       "0  113722104692308235141   Alvin Martinez  1603494795361       5   \n",
       "1  107293441492109320298  Johnnie Jackson  1620157037403       1   \n",
       "2  100378585801819400296     Manie Blazer  1597431662039       5   \n",
       "3  114998161153019826512   Fashion Fiinds  1543773862044       5   \n",
       "4  117178185728422297915   Andres Rieloff  1597279097718       1   \n",
       "\n",
       "                                                text  \\\n",
       "0  I'm late to posting this but this store especi...   \n",
       "1  Very dissatisfied I did not get my phone the p...   \n",
       "2  Excellent very well done with professional car...   \n",
       "3  Basing my review strictly on the service I rec...   \n",
       "4  Bad! Disorganized. I'm being totally honest. I...   \n",
       "\n",
       "                                                pics  \\\n",
       "0  [{'url': ['https://lh5.googleusercontent.com/p...   \n",
       "1                                               None   \n",
       "2                                               None   \n",
       "3                                               None   \n",
       "4                                               None   \n",
       "\n",
       "                                                resp  \\\n",
       "0                                               None   \n",
       "1  {'time': 1620268360920, 'text': 'We pride ours...   \n",
       "2                                               None   \n",
       "3  {'time': 1543855317372, 'text': 'Thanks for th...   \n",
       "4                                               None   \n",
       "\n",
       "                               gmap_id  \n",
       "0  0x89c25fc9494dce47:0x6d63c807b59a55  \n",
       "1  0x89c25fc9494dce47:0x6d63c807b59a55  \n",
       "2  0x89c25fc9494dce47:0x6d63c807b59a55  \n",
       "3  0x89c25fc9494dce47:0x6d63c807b59a55  \n",
       "4  0x89c25fc9494dce47:0x6d63c807b59a55  "
      ]
     },
     "execution_count": 5,
     "metadata": {},
     "output_type": "execute_result"
    }
   ],
   "source": [
    "new_york_df.head()"
   ]
  },
  {
   "cell_type": "code",
   "execution_count": 19,
   "metadata": {},
   "outputs": [
    {
     "data": {
      "text/plain": [
       "time   2021-09-08 02:08:59.373\n",
       "dtype: datetime64[ns]"
      ]
     },
     "execution_count": 19,
     "metadata": {},
     "output_type": "execute_result"
    }
   ],
   "source": [
    "new_york_time = new_york_df[['time']]\n",
    "date = new_york_time.max()\n",
    "date\n",
    "\n",
    "date_f = pd.to_datetime(date, unit='ms')\n",
    "date_f\n"
   ]
  },
  {
   "cell_type": "code",
   "execution_count": 9,
   "metadata": {},
   "outputs": [],
   "source": [
    "import datetime"
   ]
  },
  {
   "cell_type": "code",
   "execution_count": 16,
   "metadata": {},
   "outputs": [
    {
     "ename": "TypeError",
     "evalue": "'Series' object cannot be interpreted as an integer",
     "output_type": "error",
     "traceback": [
      "\u001b[1;31m---------------------------------------------------------------------------\u001b[0m",
      "\u001b[1;31mTypeError\u001b[0m                                 Traceback (most recent call last)",
      "\u001b[1;32mc:\\Users\\chiri\\Desktop\\Yelp-Final-Project\\test.ipynb Cell 7\u001b[0m line \u001b[0;36m1\n\u001b[1;32m----> <a href='vscode-notebook-cell:/c%3A/Users/chiri/Desktop/Yelp-Final-Project/test.ipynb#W6sZmlsZQ%3D%3D?line=0'>1</a>\u001b[0m date_f \u001b[39m=\u001b[39m datetime\u001b[39m.\u001b[39;49mdatetime\u001b[39m.\u001b[39;49mfromtimestamp(date \u001b[39m/\u001b[39;49m \u001b[39m1000.0\u001b[39;49m)\n\u001b[0;32m      <a href='vscode-notebook-cell:/c%3A/Users/chiri/Desktop/Yelp-Final-Project/test.ipynb#W6sZmlsZQ%3D%3D?line=2'>3</a>\u001b[0m date\n",
      "\u001b[1;31mTypeError\u001b[0m: 'Series' object cannot be interpreted as an integer"
     ]
    }
   ],
   "source": [
    "date_f = datetime.datetime.fromtimestamp(date / 1000.0)\n",
    "\n",
    "date"
   ]
  }
 ],
 "metadata": {
  "kernelspec": {
   "display_name": "Python 3",
   "language": "python",
   "name": "python3"
  },
  "language_info": {
   "codemirror_mode": {
    "name": "ipython",
    "version": 3
   },
   "file_extension": ".py",
   "mimetype": "text/x-python",
   "name": "python",
   "nbconvert_exporter": "python",
   "pygments_lexer": "ipython3",
   "version": "3.12.0"
  }
 },
 "nbformat": 4,
 "nbformat_minor": 2
}
